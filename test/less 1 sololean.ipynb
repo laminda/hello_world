{
 "cells": [
  {
   "cell_type": "code",
   "execution_count": 3,
   "metadata": {},
   "outputs": [
    {
     "name": "stdout",
     "output_type": "stream",
     "text": [
      "Hello world\n"
     ]
    }
   ],
   "source": [
    "\n",
    "print(\"Hello world!\") # print - функция вывода, в данном случае выводим строку"
   ]
  },
  {
   "cell_type": "code",
   "execution_count": 31,
   "metadata": {},
   "outputs": [
    {
     "name": "stdout",
     "output_type": "stream",
     "text": [
      "22\n",
      "безумная\n",
      "\"test\"\n",
      "full\t \n",
      " out \n",
      "Test perenos\n",
      "Test perenos\n",
      "one\n",
      " Two\n",
      " free\n",
      "\n",
      "help\n",
      "help\n",
      "help\n",
      "help\n",
      "\n",
      "52\n",
      "1.0\n",
      "2\n",
      "1\n",
      "51\n"
     ]
    }
   ],
   "source": [
    "# Работа со стрками \n",
    "print(\"2\" +\"2\") # сложене строк\n",
    "print(\"безум\" + \"ная\")\n",
    "print(\"\\\"test\\\"\") # экранирование кавычек \n",
    "print(\"full\\t \\n out \")\n",
    "print(\"\"\"Test     perenos\"\"\") # новая строка за счет тройных кавычек, но почему то не сработало\n",
    "print(\"Test perenos\")\n",
    "print(\"one\\n Two\\n free\\n\")\n",
    "print(\"help\\n\" * 4)\n",
    "\n",
    "# работа с числами в python\n",
    "print(3+7 ** 2) #Возведение в стпкень и сложение в порядке приоретета \n",
    "print(7/7) #float чтсло с плавающей точкой \n",
    "print(15//7) # целочисленное деление или деление без остатка \n",
    "print(15%7) #остаток от деления \n",
    "print(7**2 + (15//7))\n",
    "\n",
    "\n"
   ]
  },
  {
   "cell_type": "code",
   "execution_count": null,
   "metadata": {},
   "outputs": [],
   "source": [
    "'''\n",
    "y = \"Job\\t\"\n",
    "print(x * y + \"=\")\n",
    "'''\n",
    "\n",
    "x = input() #input функция ввода привращает все в строку \n",
    "print(x)\n",
    "\n"
   ]
  },
  {
   "cell_type": "code",
   "execution_count": 49,
   "metadata": {},
   "outputs": [
    {
     "name": "stdout",
     "output_type": "stream",
     "text": [
      "Введите Ваше имя: TT\n",
      "Привет, TT!\n"
     ]
    }
   ],
   "source": [
    "x = input(\"Введите Ваше имя: \")\n",
    "print(\"Привет, \"+ x + \"!\" )"
   ]
  },
  {
   "cell_type": "code",
   "execution_count": 126,
   "metadata": {},
   "outputs": [
    {
     "name": "stdout",
     "output_type": "stream",
     "text": [
      "Введите ка мне ваш возраст:1\n",
      "1.0\n"
     ]
    }
   ],
   "source": [
    "age = int(input(\"Введите ка мне ваш возраст:\")) #функция int переводит строку в число \n",
    "print(float (age)) # float перводит число в число с точкой\n"
   ]
  },
  {
   "cell_type": "code",
   "execution_count": 103,
   "metadata": {},
   "outputs": [
    {
     "name": "stdout",
     "output_type": "stream",
     "text": [
      "-32\n"
     ]
    }
   ],
   "source": [
    "namber = 9%3 **2 -1\n",
    "x -= namber + 5\n",
    "print(x)"
   ]
  },
  {
   "cell_type": "code",
   "execution_count": 1,
   "metadata": {},
   "outputs": [
    {
     "name": "stdout",
     "output_type": "stream",
     "text": [
      "9\n",
      "5\n"
     ]
    }
   ],
   "source": [
    "#Краткие выражения операций \n",
    "x =5\n",
    "x+=x-1\n",
    "print(x)\n",
    "\n"
   ]
  },
  {
   "cell_type": "code",
   "execution_count": 5,
   "metadata": {},
   "outputs": [
    {
     "name": "stdout",
     "output_type": "stream",
     "text": [
      "testme\n"
     ]
    }
   ],
   "source": [
    "word = \"test\" # строка 1\n",
    "self = \"me\"  # строка 2\n",
    "print(word + self)   #Сумма строк "
   ]
  },
  {
   "cell_type": "code",
   "execution_count": null,
   "metadata": {},
   "outputs": [],
   "source": [
    "# Walrus := оператор присвоения\n",
    "\n",
    "print(x:= int(input(\"Введите число: \")))\n",
    "\n",
    "\n",
    "\n"
   ]
  },
  {
   "cell_type": "code",
   "execution_count": 24,
   "metadata": {},
   "outputs": [
    {
     "name": "stdout",
     "output_type": "stream",
     "text": [
      "Test        perenos\n"
     ]
    }
   ],
   "source": []
  },
  {
   "cell_type": "code",
   "execution_count": null,
   "metadata": {},
   "outputs": [],
   "source": []
  }
 ],
 "metadata": {
  "kernelspec": {
   "display_name": "Python 3",
   "language": "python",
   "name": "python3"
  },
  "language_info": {
   "codemirror_mode": {
    "name": "ipython",
    "version": 3
   },
   "file_extension": ".py",
   "mimetype": "text/x-python",
   "name": "python",
   "nbconvert_exporter": "python",
   "pygments_lexer": "ipython3",
   "version": "3.8.5"
  }
 },
 "nbformat": 4,
 "nbformat_minor": 4
}
